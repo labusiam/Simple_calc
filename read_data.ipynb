{
 "cells": [
  {
   "cell_type": "code",
   "execution_count": 1,
   "id": "0646c4f2-de0b-4bf4-b2fa-c401d4ff6e14",
   "metadata": {},
   "outputs": [],
   "source": [
    "import pandas as pd"
   ]
  },
  {
   "cell_type": "code",
   "execution_count": 3,
   "id": "928d7b39-fb6c-47db-8c77-31d1ddf5a7e3",
   "metadata": {},
   "outputs": [],
   "source": [
    "df = pd.read_csv('KCQT.csv')"
   ]
  },
  {
   "cell_type": "code",
   "execution_count": 6,
   "id": "6d46774a-9adb-42ee-9828-93061a70df28",
   "metadata": {},
   "outputs": [],
   "source": [
    "df_precipitation = df[['actual_precipitation', 'average_precipitation',\n",
    "       'record_precipitation']]"
   ]
  }
 ],
 "metadata": {
  "kernelspec": {
   "display_name": "Python 3",
   "language": "python",
   "name": "python3"
  },
  "language_info": {
   "codemirror_mode": {
    "name": "ipython",
    "version": 3
   },
   "file_extension": ".py",
   "mimetype": "text/x-python",
   "name": "python",
   "nbconvert_exporter": "python",
   "pygments_lexer": "ipython3",
   "version": "3.8.8"
  }
 },
 "nbformat": 4,
 "nbformat_minor": 5
}
